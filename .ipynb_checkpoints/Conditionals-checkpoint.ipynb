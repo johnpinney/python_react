{
 "cells": [
  {
   "cell_type": "markdown",
   "metadata": {},
   "source": [
    "# Exercise: **if** statement"
   ]
  },
  {
   "cell_type": "markdown",
   "metadata": {},
   "source": [
    "## 1\n",
    "Look at this example of a branching tree for the classification of vertebrates.\n",
    "\n",
    "![dichotomous tree](dichotomous_tree.jpg)"
   ]
  },
  {
   "cell_type": "markdown",
   "metadata": {},
   "source": [
    "Complete the code below to print out the correct classification for any given vertebrate, based on the values of the variables provided."
   ]
  },
  {
   "cell_type": "code",
   "execution_count": null,
   "metadata": {},
   "outputs": [],
   "source": [
    "name = 'Frog'\n",
    "fur = False\n",
    "feathers = False\n",
    "fertilisation = 'external'\n",
    "adult.has.gills = False\n",
    "\n",
    "print(name)\n",
    "\n",
    "if fur:\n",
    "    print('Mammal')\n",
    "    elif ___:\n",
    "        #...\n",
    "        "
   ]
  },
  {
   "cell_type": "markdown",
   "metadata": {},
   "source": [
    "---"
   ]
  },
  {
   "cell_type": "markdown",
   "metadata": {},
   "source": [
    "## 2 \n",
    "Look at the following code."
   ]
  },
  {
   "cell_type": "code",
   "execution_count": 7,
   "metadata": {},
   "outputs": [
    {
     "name": "stdout",
     "output_type": "stream",
     "text": [
      "What number am I thinking of?\n"
     ]
    },
    {
     "name": "stdin",
     "output_type": "stream",
     "text": [
      " 55\n"
     ]
    },
    {
     "name": "stdout",
     "output_type": "stream",
     "text": [
      "You guessed 55\n"
     ]
    }
   ],
   "source": [
    "import random\n",
    "\n",
    "secret = random.randrange(1,101)\n",
    "\n",
    "print('What number am I thinking of?')\n",
    "guess = input()\n",
    "\n",
    "print('You guessed', guess)\n"
   ]
  },
  {
   "cell_type": "markdown",
   "metadata": {},
   "source": [
    "(a) What are the possible values for the secret number?"
   ]
  },
  {
   "cell_type": "markdown",
   "metadata": {},
   "source": [
    "(b) Adapt the code to give the player some feedback (correct / too high / too low)"
   ]
  },
  {
   "cell_type": "markdown",
   "metadata": {},
   "source": [
    "(c) Adapt the code further to let the player keep guessing until they get the correct answer."
   ]
  },
  {
   "cell_type": "markdown",
   "metadata": {},
   "source": [
    "*Hint:*\n",
    "\n",
    "You will probably want to make use of another kind of loop, called a **while** loop:\n",
    "\n",
    "```\n",
    "while ___:\n",
    "    # do something\n",
    "```\n",
    "\n",
    "In a while loop, we simply repeat executing the code block until the condition evaluates to `False`.\n"
   ]
  },
  {
   "cell_type": "code",
   "execution_count": 9,
   "metadata": {},
   "outputs": [
    {
     "name": "stdout",
     "output_type": "stream",
     "text": [
      "0\n",
      "1\n",
      "2\n",
      "3\n",
      "4\n",
      "5\n",
      "6\n",
      "7\n",
      "8\n",
      "9\n",
      "finished!\n"
     ]
    }
   ],
   "source": [
    "## example of a while loop\n",
    "\n",
    "n = 0\n",
    "\n",
    "while n < 10:\n",
    "    print(n)\n",
    "    n = n + 1\n",
    "\n",
    "print('finished!')"
   ]
  },
  {
   "cell_type": "code",
   "execution_count": null,
   "metadata": {},
   "outputs": [],
   "source": []
  }
 ],
 "metadata": {
  "kernelspec": {
   "display_name": "Python 3",
   "language": "python",
   "name": "python3"
  },
  "language_info": {
   "codemirror_mode": {
    "name": "ipython",
    "version": 3
   },
   "file_extension": ".py",
   "mimetype": "text/x-python",
   "name": "python",
   "nbconvert_exporter": "python",
   "pygments_lexer": "ipython3",
   "version": "3.8.3"
  }
 },
 "nbformat": 4,
 "nbformat_minor": 4
}
