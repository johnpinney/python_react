{
 "cells": [
  {
   "cell_type": "markdown",
   "metadata": {},
   "source": [
    "# Exercises: **if** statement"
   ]
  },
  {
   "cell_type": "markdown",
   "metadata": {},
   "source": [
    "## 1\n",
    "Look at this example of a branching tree for the classification of vertebrates.\n",
    "\n",
    "![dichotomous tree](dichotomous_tree.jpg)"
   ]
  },
  {
   "cell_type": "markdown",
   "metadata": {},
   "source": [
    "Complete the code below to print out the correct classification for any given vertebrate, based on the values of the variables provided."
   ]
  },
  {
   "cell_type": "code",
   "execution_count": null,
   "metadata": {},
   "outputs": [],
   "source": [
    "name = 'Frog'\n",
    "fur = False\n",
    "feathers = False\n",
    "fertilisation = 'external'\n",
    "adult.has.gills = False\n",
    "\n",
    "print(name)\n",
    "\n",
    "if fur:\n",
    "    print('Mammal')\n",
    "    elif ___:\n",
    "        #...\n",
    "        "
   ]
  },
  {
   "cell_type": "markdown",
   "metadata": {},
   "source": [
    "---"
   ]
  },
  {
   "cell_type": "markdown",
   "metadata": {},
   "source": [
    "## 2 \n",
    "Look at the following code."
   ]
  },
  {
   "cell_type": "code",
   "execution_count": null,
   "metadata": {},
   "outputs": [],
   "source": [
    "import random\n",
    "\n",
    "secret = random.randrange(1,101)\n",
    "\n",
    "print('What number am I thinking of?')\n",
    "guess = input()\n",
    "\n",
    "print('You guessed', guess)\n"
   ]
  },
  {
   "cell_type": "markdown",
   "metadata": {},
   "source": [
    "(a) What are the possible values for `secret`?"
   ]
  },
  {
   "cell_type": "markdown",
   "metadata": {},
   "source": [
    "(b) What does the `input` function do?"
   ]
  },
  {
   "cell_type": "markdown",
   "metadata": {},
   "source": [
    "(c) Adapt the code to give the player some feedback (correct / too high / too low)."
   ]
  },
  {
   "cell_type": "markdown",
   "metadata": {},
   "source": [
    "(d) Adapt the code further to let the player keep guessing until they get the correct answer."
   ]
  },
  {
   "cell_type": "markdown",
   "metadata": {},
   "source": [
    "*Hint:*\n",
    "\n",
    "For part (d), you will probably want to make use of another kind of loop, called a **while** loop:\n",
    "\n",
    "```\n",
    "while ___:\n",
    "    # do something\n",
    "```\n",
    "\n",
    "In a while loop, the code block is repeatedly executed until the condition evaluates to `False`.\n"
   ]
  },
  {
   "cell_type": "code",
   "execution_count": null,
   "metadata": {},
   "outputs": [],
   "source": [
    "## example of a while loop\n",
    "\n",
    "n = 0\n",
    "\n",
    "while n < 10:\n",
    "    print(n)\n",
    "    n = n + 1\n",
    "\n",
    "print('finished!')"
   ]
  }
 ],
 "metadata": {
  "kernelspec": {
   "display_name": "Python 3",
   "language": "python",
   "name": "python3"
  },
  "language_info": {
   "codemirror_mode": {
    "name": "ipython",
    "version": 3
   },
   "file_extension": ".py",
   "mimetype": "text/x-python",
   "name": "python",
   "nbconvert_exporter": "python",
   "pygments_lexer": "ipython3",
   "version": "3.8.3"
  }
 },
 "nbformat": 4,
 "nbformat_minor": 4
}
